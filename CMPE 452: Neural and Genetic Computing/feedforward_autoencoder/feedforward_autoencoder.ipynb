{
 "cells": [
  {
   "cell_type": "code",
   "execution_count": 21,
   "metadata": {},
   "outputs": [],
   "source": [
    "import sys\n",
    "import os, logging\n",
    "import csv\n",
    "\n",
    "import pandas as pd\n",
    "import matplotlib.pyplot as plt\n",
    "from sklearn.model_selection import train_test_split\n",
    "from keras.layers import Input, Dense\n",
    "from keras import regularizers\n",
    "from keras.models import Model, load_model\n",
    "from keras.callbacks import ModelCheckpoint, TensorBoard\n",
    "import numpy as np\n",
    "import tensorflow as tf\n",
    "from sklearn import metrics\n",
    "import warnings\n",
    "warnings.filterwarnings('ignore')"
   ]
  },
  {
   "cell_type": "markdown",
   "metadata": {},
   "source": [
    "[Data Preprocessing]\n",
    "\n",
    "For demonstration, DO NOT need to run, preprocessed data already included.\n",
    "\n",
    "Skip to \"Load Preprocessed Dataset\"\n",
    "\n",
    "- Length: length of the URL\n",
    "- Depth: the occurrence of ‘/’ character in the URL\n",
    "- Numerical count: count of numeric characters\n",
    "- Words count: count of English words present in the URL\n",
    "- Special chars count: count of specials characters"
   ]
  },
  {
   "cell_type": "markdown",
   "metadata": {},
   "source": [
    "Define chars for occurence counting\n",
    "\n",
    "function to check for english words"
   ]
  },
  {
   "cell_type": "code",
   "execution_count": 2,
   "metadata": {},
   "outputs": [],
   "source": [
    "LETTERS = 'abcdefghijklmnopqrstuwxyz'\n",
    "NUMBERS = '0123456789'\n",
    "SPEC_CHARS = ['+','\\\"','*','#','%','&','(',')','=','?','^','-','.','!','~','_','>','<']\n",
    "\n",
    "def check_url_contains_words(url):\n",
    "    found_words = []\n",
    "    for letter in LETTERS:\n",
    "        dictionary = open('dictionary/wb1913_{}.txt'.format(letter), 'rb')\n",
    "        for line in dictionary.readlines():\n",
    "            line = str(line)\n",
    "            word = line.split('</B>')[0].replace('<P><B>', '').lower()\n",
    "            if str(word) in url.lower() and len(word) > 1 and word not in found_words:\n",
    "                found_words.append(word)\n",
    "    return len(found_words)"
   ]
  },
  {
   "cell_type": "markdown",
   "metadata": {},
   "source": [
    "Create csv and write data labels"
   ]
  },
  {
   "cell_type": "code",
   "execution_count": 3,
   "metadata": {},
   "outputs": [
    {
     "data": {
      "text/plain": [
       "62"
      ]
     },
     "execution_count": 3,
     "metadata": {},
     "output_type": "execute_result"
    }
   ],
   "source": [
    "preprocessed_data = open('preprocessed_data.csv', 'w')\n",
    "preprocessed_data.write('len,spec_chars,depth,numericals_count,word_count,label\\n')"
   ]
  },
  {
   "cell_type": "markdown",
   "metadata": {},
   "source": [
    "Process dataset, very time consuming"
   ]
  },
  {
   "cell_type": "code",
   "execution_count": null,
   "metadata": {},
   "outputs": [],
   "source": [
    "count = 0\n",
    "\n",
    "for row in  csv.reader(open('url_data.csv', 'r'), delimiter = ','):\n",
    "    spec_chars, depth, numericals_count, word_count = 0, 0, 0, 0\n",
    "    \n",
    "    \n",
    "    if 'bad' in row[1].lower():\n",
    "        label = '1'\n",
    "    else:\n",
    "        label = '0'\n",
    "\n",
    "    url = str(row[0])\n",
    "    # print(count, url, label)\n",
    "    \n",
    "    count += 1\n",
    "    \n",
    "    word_count = check_url_contains_words(url)\n",
    "    \n",
    "    for c in str(row[0]):\n",
    "        if c in SPEC_CHARS:\n",
    "            spec_chars += 1\n",
    "        if c in ['/']:\n",
    "            depth += 1\n",
    "        if c in NUMBERS:\n",
    "            numericals_count += 1\n",
    "    preprocessed_data.write(str(len(row[0])) + ',' + str(spec_chars) + ',0,' + str(depth) + ',' + str(numericals_count) + ',' + str(word_count) + ',' + label + '\\n')"
   ]
  },
  {
   "cell_type": "markdown",
   "metadata": {},
   "source": [
    "Load Preprocessed Dataset"
   ]
  },
  {
   "cell_type": "code",
   "execution_count": 4,
   "metadata": {},
   "outputs": [
    {
     "name": "stdout",
     "output_type": "stream",
     "text": [
      "(420465, 6)\n"
     ]
    }
   ],
   "source": [
    "df = pd.read_csv(\"preprocessed_data.csv\")\n",
    "\n",
    "# Dimension of the dataset\n",
    "print(df.shape)"
   ]
  },
  {
   "cell_type": "markdown",
   "metadata": {},
   "source": [
    "Split training and testing data 80/20"
   ]
  },
  {
   "cell_type": "code",
   "execution_count": 6,
   "metadata": {},
   "outputs": [],
   "source": [
    "X_train, X_test = train_test_split(df, test_size=0.2)\n",
    "\n",
    "# Take only the normal cases\n",
    "X_train = X_train[X_train.label == 0]\n",
    "X_train = X_train.drop(['label'], axis=1)\n",
    "\n",
    "y_test = X_test['label']\n",
    "X_test = X_test.drop(['label'], axis=1)\n",
    "X_train = X_train.values\n",
    "X_test = X_test.values\n"
   ]
  },
  {
   "cell_type": "markdown",
   "metadata": {},
   "source": [
    "Select the size of the encoding/input layer. "
   ]
  },
  {
   "cell_type": "code",
   "execution_count": 7,
   "metadata": {},
   "outputs": [],
   "source": [
    "input_dim = X_train.shape[1]\n",
    "encoding_dim = input_dim"
   ]
  },
  {
   "cell_type": "markdown",
   "metadata": {},
   "source": [
    "Build the feedforward autoencoder model."
   ]
  },
  {
   "cell_type": "code",
   "execution_count": 8,
   "metadata": {},
   "outputs": [
    {
     "name": "stdout",
     "output_type": "stream",
     "text": [
      "Model: \"model\"\n",
      "_________________________________________________________________\n",
      " Layer (type)                Output Shape              Param #   \n",
      "=================================================================\n",
      " input_1 (InputLayer)        [(None, 5)]               0         \n",
      "                                                                 \n",
      " dense (Dense)               (None, 5)                 30        \n",
      "                                                                 \n",
      " dense_1 (Dense)             (None, 4)                 24        \n",
      "                                                                 \n",
      " dense_2 (Dense)             (None, 3)                 15        \n",
      "                                                                 \n",
      " dense_5 (Dense)             (None, 4)                 16        \n",
      "                                                                 \n",
      " dense_6 (Dense)             (None, 5)                 25        \n",
      "                                                                 \n",
      "=================================================================\n",
      "Total params: 110\n",
      "Trainable params: 110\n",
      "Non-trainable params: 0\n",
      "_________________________________________________________________\n"
     ]
    },
    {
     "name": "stderr",
     "output_type": "stream",
     "text": [
      "2022-12-06 22:28:02.180402: W tensorflow/compiler/xla/stream_executor/platform/default/dso_loader.cc:64] Could not load dynamic library 'libcuda.so.1'; dlerror: libcuda.so.1: cannot open shared object file: No such file or directory\n",
      "2022-12-06 22:28:02.180578: W tensorflow/compiler/xla/stream_executor/cuda/cuda_driver.cc:265] failed call to cuInit: UNKNOWN ERROR (303)\n",
      "2022-12-06 22:28:02.180743: I tensorflow/compiler/xla/stream_executor/cuda/cuda_diagnostics.cc:156] kernel driver does not appear to be running on this host (alex-desktop): /proc/driver/nvidia/version does not exist\n",
      "2022-12-06 22:28:02.181599: I tensorflow/core/platform/cpu_feature_guard.cc:193] This TensorFlow binary is optimized with oneAPI Deep Neural Network Library (oneDNN) to use the following CPU instructions in performance-critical operations:  AVX2 FMA\n",
      "To enable them in other operations, rebuild TensorFlow with the appropriate compiler flags.\n"
     ]
    }
   ],
   "source": [
    "input_layer = Input(shape=(input_dim, ))\n",
    "\n",
    "encoder = Dense(encoding_dim, activation=\"tanh\",\n",
    "                activity_regularizer=regularizers.l1(10e-5))(input_layer)\n",
    "\n",
    "encoder = Dense(int(encoding_dim-1), activation=\"relu\")(encoder)\n",
    "\n",
    "encoder = Dense(int(encoding_dim-2), activation=\"relu\")(encoder)\n",
    "\n",
    "code = Dense(int(encoding_dim-3), activation='tanh')(encoder)\n",
    "\n",
    "decoder = Dense(int(encoding_dim-2), activation='tanh')(code)\n",
    "\n",
    "decoder = Dense(int(encoding_dim-1), activation='tanh')(encoder)\n",
    "\n",
    "decoder = Dense(input_dim, activation='relu')(decoder)\n",
    "\n",
    "autoencoder = Model(inputs=input_layer, outputs=decoder)\n",
    "\n",
    "autoencoder.summary()"
   ]
  },
  {
   "cell_type": "markdown",
   "metadata": {},
   "source": [
    "Set the parameters, callbacks and train the model. "
   ]
  },
  {
   "cell_type": "code",
   "execution_count": 9,
   "metadata": {},
   "outputs": [
    {
     "name": "stdout",
     "output_type": "stream",
     "text": [
      "Epoch 1/2\n",
      "4549/4596 [============================>.] - ETA: 0s - loss: 475.3298 - accuracy: 0.6859\n",
      "Epoch 1: val_loss improved from inf to 429.47394, saving model to model.h5\n",
      "4596/4596 [==============================] - 5s 968us/step - loss: 473.6167 - accuracy: 0.6891 - val_loss: 429.4739 - val_accuracy: 0.9991\n",
      "Epoch 2/2\n",
      "4562/4596 [============================>.] - ETA: 0s - loss: 207.5836 - accuracy: 0.9991\n",
      "Epoch 2: val_loss improved from 429.47394 to 262.55435, saving model to model.h5\n",
      "4596/4596 [==============================] - 4s 913us/step - loss: 207.0716 - accuracy: 0.9991 - val_loss: 262.5544 - val_accuracy: 0.9991\n"
     ]
    }
   ],
   "source": [
    "nb_epoch = 2\n",
    "batch_size = 60\n",
    "\n",
    "autoencoder.compile(optimizer='adam',\n",
    "                    loss='mean_squared_error',\n",
    "                    metrics=['accuracy'])\n",
    "\n",
    "checkpointer = ModelCheckpoint(filepath=\"model.h5\", verbose=1, save_best_only=True)\n",
    "tensorboard = TensorBoard(log_dir='./logs', histogram_freq=0, write_graph=True, write_images=True)\n",
    "\n",
    "history = autoencoder.fit(X_train, X_train, epochs=nb_epoch, batch_size=batch_size, shuffle=True, validation_data=(X_test, X_test), verbose=1, callbacks=[checkpointer, tensorboard]).history"
   ]
  },
  {
   "cell_type": "markdown",
   "metadata": {},
   "source": [
    "Load from the saved model."
   ]
  },
  {
   "cell_type": "code",
   "execution_count": 10,
   "metadata": {},
   "outputs": [],
   "source": [
    "autoencoder = load_model('model.h5')"
   ]
  },
  {
   "cell_type": "markdown",
   "metadata": {},
   "source": [
    "Make predictions on the test data"
   ]
  },
  {
   "cell_type": "code",
   "execution_count": 11,
   "metadata": {},
   "outputs": [
    {
     "name": "stdout",
     "output_type": "stream",
     "text": [
      "2628/2628 [==============================] - 1s 520us/step\n"
     ]
    }
   ],
   "source": [
    "predictions = autoencoder.predict(X_test)\n",
    "mse = np.mean(np.power(X_test - predictions, 2), axis=1)\n",
    "error_df = pd.DataFrame({'reconstruction_error': mse,'true_class': y_test})\n",
    "fraud_error_df = error_df[error_df['true_class'] == 1]"
   ]
  },
  {
   "cell_type": "markdown",
   "metadata": {},
   "source": [
    "Calibrate the threshold value"
   ]
  },
  {
   "cell_type": "code",
   "execution_count": 18,
   "metadata": {},
   "outputs": [
    {
     "name": "stdout",
     "output_type": "stream",
     "text": [
      "\n",
      "Threshold: 35.005  ::  Recall: 0.4018511119989346  ::  Accuracy: 0.5989083514680176  \n",
      "\n",
      "Threshold: 35.010000000000005  ::  Recall: 0.4018511119989346  ::  Accuracy: 0.5989321346604355  \n",
      "\n",
      "Threshold: 35.01500000000001  ::  Recall: 0.4016513517112798  ::  Accuracy: 0.5989202430642265  \n",
      "\n",
      "Threshold: 35.02000000000001  ::  Recall: 0.4016513517112798  ::  Accuracy: 0.5989321346604355  \n",
      "\n",
      "Threshold: 35.02500000000001  ::  Recall: 0.4016513517112798  ::  Accuracy: 0.5989440262566444  \n",
      "\n",
      "Threshold: 35.030000000000015  ::  Recall: 0.4016513517112798  ::  Accuracy: 0.5989678094490624  \n",
      "\n",
      "Threshold: 35.03500000000002  ::  Recall: 0.4016513517112798  ::  Accuracy: 0.5989797010452713  \n",
      "\n",
      "Threshold: 35.04000000000002  ::  Recall: 0.4016513517112798  ::  Accuracy: 0.5989915926414803  \n",
      "\n",
      "Threshold: 35.04500000000002  ::  Recall: 0.4016513517112798  ::  Accuracy: 0.5991105086035698  \n",
      "\n",
      "Threshold: 35.050000000000026  ::  Recall: 0.4015847649487282  ::  Accuracy: 0.5991105086035698  \n",
      "\n",
      "Threshold: 35.05500000000003  ::  Recall: 0.4015847649487282  ::  Accuracy: 0.5991342917959878  \n",
      "\n",
      "Threshold: 35.06000000000003  ::  Recall: 0.4015847649487282  ::  Accuracy: 0.5991342917959878  \n",
      "\n",
      "Threshold: 35.06500000000003  ::  Recall: 0.4015847649487282  ::  Accuracy: 0.5991461833921967  \n",
      "\n",
      "Threshold: 35.070000000000036  ::  Recall: 0.4015181781861766  ::  Accuracy: 0.5991342917959878  \n",
      "\n",
      "Threshold: 35.07500000000004  ::  Recall: 0.4015181781861766  ::  Accuracy: 0.5991342917959878  \n",
      "\n",
      "Threshold: 35.08000000000004  ::  Recall: 0.4015181781861766  ::  Accuracy: 0.5991342917959878  \n",
      "\n",
      "Threshold: 35.08500000000004  ::  Recall: 0.40145159142362496  ::  Accuracy: 0.5991580749884057  \n",
      "\n",
      "Threshold: 35.090000000000046  ::  Recall: 0.40145159142362496  ::  Accuracy: 0.5991699665846146  \n",
      "\n",
      "Threshold: 35.09500000000005  ::  Recall: 0.40138500466107335  ::  Accuracy: 0.5992056413732415  \n",
      "\n",
      "Threshold: 35.10000000000005  ::  Recall: 0.40138500466107335  ::  Accuracy: 0.5992175329694505  \n",
      "\n",
      "Threshold: 35.105000000000054  ::  Recall: 0.40138500466107335  ::  Accuracy: 0.5992175329694505  \n",
      "\n",
      "Threshold: 35.110000000000056  ::  Recall: 0.40138500466107335  ::  Accuracy: 0.5992175329694505  \n",
      "\n",
      "Threshold: 35.11500000000006  ::  Recall: 0.40138500466107335  ::  Accuracy: 0.5992175329694505  \n",
      "\n",
      "Threshold: 35.12000000000006  ::  Recall: 0.4013184178985218  ::  Accuracy: 0.5992294245656594  \n",
      "\n",
      "Threshold: 35.125000000000064  ::  Recall: 0.4012518311359702  ::  Accuracy: 0.5992175329694505  \n",
      "\n",
      "Threshold: 35.13000000000007  ::  Recall: 0.4012518311359702  ::  Accuracy: 0.5992175329694505  \n",
      "\n",
      "Threshold: 35.13500000000007  ::  Recall: 0.4012518311359702  ::  Accuracy: 0.5992175329694505  \n",
      "\n",
      "Threshold: 35.14000000000007  ::  Recall: 0.4012518311359702  ::  Accuracy: 0.5992175329694505  \n",
      "\n",
      "Threshold: 35.145000000000074  ::  Recall: 0.4012518311359702  ::  Accuracy: 0.5992294245656594  \n",
      "\n",
      "Threshold: 35.15000000000008  ::  Recall: 0.4012518311359702  ::  Accuracy: 0.5992413161618684  \n",
      "\n",
      "Threshold: 35.15500000000008  ::  Recall: 0.4012518311359702  ::  Accuracy: 0.5992532077580773  \n",
      "\n",
      "Threshold: 35.16000000000008  ::  Recall: 0.4012518311359702  ::  Accuracy: 0.5992650993542863  \n",
      "\n",
      "Threshold: 35.165000000000084  ::  Recall: 0.4012518311359702  ::  Accuracy: 0.5992769909504952  \n",
      "\n",
      "Threshold: 35.17000000000009  ::  Recall: 0.40111865761086696  ::  Accuracy: 0.5992532077580773  \n",
      "\n",
      "Threshold: 35.17500000000009  ::  Recall: 0.40111865761086696  ::  Accuracy: 0.5992650993542863  \n",
      "\n",
      "Threshold: 35.18000000000009  ::  Recall: 0.40111865761086696  ::  Accuracy: 0.5992769909504952  \n",
      "\n",
      "Threshold: 35.185000000000095  ::  Recall: 0.40111865761086696  ::  Accuracy: 0.5993007741429132  \n",
      "\n",
      "Threshold: 35.1900000000001  ::  Recall: 0.40111865761086696  ::  Accuracy: 0.5993126657391221  \n",
      "\n",
      "Threshold: 35.1950000000001  ::  Recall: 0.40111865761086696  ::  Accuracy: 0.5993245573353311  \n",
      "\n",
      "Threshold: 35.2000000000001  ::  Recall: 0.40111865761086696  ::  Accuracy: 0.5993245573353311  \n",
      "\n",
      "Threshold: 35.205000000000105  ::  Recall: 0.40111865761086696  ::  Accuracy: 0.59933644893154  \n",
      "\n",
      "Threshold: 35.21000000000011  ::  Recall: 0.40111865761086696  ::  Accuracy: 0.599348340527749  \n",
      "\n",
      "Threshold: 35.21500000000011  ::  Recall: 0.40105207084831535  ::  Accuracy: 0.59933644893154  \n",
      "\n",
      "Threshold: 35.22000000000011  ::  Recall: 0.40105207084831535  ::  Accuracy: 0.599360232123958  \n",
      "\n",
      "Threshold: 35.225000000000115  ::  Recall: 0.40105207084831535  ::  Accuracy: 0.5993721237201669  \n",
      "\n",
      "Threshold: 35.23000000000012  ::  Recall: 0.40105207084831535  ::  Accuracy: 0.5993959069125849  \n",
      "\n",
      "Threshold: 35.23500000000012  ::  Recall: 0.40105207084831535  ::  Accuracy: 0.5994196901050028  \n",
      "\n",
      "Threshold: 35.24000000000012  ::  Recall: 0.4009188973232121  ::  Accuracy: 0.5994434732974208  \n",
      "\n",
      "Threshold: 35.245000000000125  ::  Recall: 0.4009188973232121  ::  Accuracy: 0.5994672564898387  \n",
      "\n",
      "Threshold: 35.25000000000013  ::  Recall: 0.4009188973232121  ::  Accuracy: 0.5994672564898387  \n",
      "\n",
      "Threshold: 35.25500000000013  ::  Recall: 0.40085231056066056  ::  Accuracy: 0.5994672564898387  \n",
      "\n",
      "Threshold: 35.26000000000013  ::  Recall: 0.40085231056066056  ::  Accuracy: 0.5994791480860476  \n",
      "\n",
      "Threshold: 35.265000000000136  ::  Recall: 0.40085231056066056  ::  Accuracy: 0.5994791480860476  \n",
      "\n",
      "Threshold: 35.27000000000014  ::  Recall: 0.40085231056066056  ::  Accuracy: 0.5994910396822566  \n",
      "\n",
      "Threshold: 35.27500000000014  ::  Recall: 0.40078572379810895  ::  Accuracy: 0.5995029312784655  \n",
      "\n",
      "Threshold: 35.28000000000014  ::  Recall: 0.40071913703555734  ::  Accuracy: 0.5994910396822566  \n",
      "\n",
      "Threshold: 35.285000000000146  ::  Recall: 0.4006525502730057  ::  Accuracy: 0.5994791480860476  \n",
      "\n",
      "Threshold: 35.29000000000015  ::  Recall: 0.4005859635104541  ::  Accuracy: 0.5994791480860476  \n",
      "\n",
      "Threshold: 35.29500000000015  ::  Recall: 0.4005859635104541  ::  Accuracy: 0.5994910396822566  \n",
      "\n",
      "Threshold: 35.30000000000015  ::  Recall: 0.4005859635104541  ::  Accuracy: 0.5995148228746745  \n",
      "\n",
      "Threshold: 35.305000000000156  ::  Recall: 0.4005193767479025  ::  Accuracy: 0.5995029312784655  \n",
      "\n",
      "Threshold: 35.31000000000016  ::  Recall: 0.4004527899853509  ::  Accuracy: 0.5995029312784655  \n",
      "\n",
      "Threshold: 35.31500000000016  ::  Recall: 0.40038620322279933  ::  Accuracy: 0.5995029312784655  \n",
      "\n",
      "Threshold: 35.320000000000164  ::  Recall: 0.40038620322279933  ::  Accuracy: 0.5995029312784655  \n",
      "\n",
      "Threshold: 35.325000000000166  ::  Recall: 0.40038620322279933  ::  Accuracy: 0.5995386060670924  \n",
      "\n",
      "Threshold: 35.33000000000017  ::  Recall: 0.40038620322279933  ::  Accuracy: 0.5995386060670924  \n",
      "\n",
      "Threshold: 35.33500000000017  ::  Recall: 0.40038620322279933  ::  Accuracy: 0.5995623892595103  \n",
      "\n",
      "Threshold: 35.340000000000174  ::  Recall: 0.40038620322279933  ::  Accuracy: 0.5995861724519282  \n",
      "\n",
      "Threshold: 35.34500000000018  ::  Recall: 0.4003196164602477  ::  Accuracy: 0.5995742808557193  \n",
      "\n",
      "Threshold: 35.35000000000018  ::  Recall: 0.4003196164602477  ::  Accuracy: 0.5995742808557193  \n",
      "\n",
      "Threshold: 35.35500000000018  ::  Recall: 0.4003196164602477  ::  Accuracy: 0.5995861724519282  \n",
      "\n",
      "Threshold: 35.360000000000184  ::  Recall: 0.4003196164602477  ::  Accuracy: 0.5996099556443462  \n",
      "\n",
      "Threshold: 35.36500000000019  ::  Recall: 0.4003196164602477  ::  Accuracy: 0.5996337388367641  \n",
      "\n",
      "Threshold: 35.37000000000019  ::  Recall: 0.4003196164602477  ::  Accuracy: 0.5996337388367641  \n",
      "\n",
      "Threshold: 35.37500000000019  ::  Recall: 0.4003196164602477  ::  Accuracy: 0.5996337388367641  \n",
      "\n",
      "Threshold: 35.380000000000194  ::  Recall: 0.4003196164602477  ::  Accuracy: 0.599645630432973  \n",
      "\n",
      "Threshold: 35.3850000000002  ::  Recall: 0.4003196164602477  ::  Accuracy: 0.599645630432973  \n",
      "\n",
      "Threshold: 35.3900000000002  ::  Recall: 0.4003196164602477  ::  Accuracy: 0.599669413625391  \n",
      "\n",
      "Threshold: 35.3950000000002  ::  Recall: 0.4003196164602477  ::  Accuracy: 0.5996931968178089  \n",
      "\n",
      "Threshold: 35.400000000000205  ::  Recall: 0.4003196164602477  ::  Accuracy: 0.5996931968178089  \n",
      "\n",
      "Threshold: 35.40500000000021  ::  Recall: 0.4003196164602477  ::  Accuracy: 0.5997288716064357  \n",
      "\n",
      "Threshold: 35.41000000000021  ::  Recall: 0.4003196164602477  ::  Accuracy: 0.5997288716064357  \n",
      "\n",
      "Threshold: 35.41500000000021  ::  Recall: 0.4003196164602477  ::  Accuracy: 0.5997526547988536  \n",
      "\n",
      "Threshold: 35.420000000000215  ::  Recall: 0.4003196164602477  ::  Accuracy: 0.5997645463950626  \n",
      "\n",
      "Threshold: 35.42500000000022  ::  Recall: 0.4003196164602477  ::  Accuracy: 0.5998002211836895  \n",
      "\n",
      "Threshold: 35.43000000000022  ::  Recall: 0.4003196164602477  ::  Accuracy: 0.5998596791647343  \n",
      "\n",
      "Threshold: 35.43500000000022  ::  Recall: 0.4003196164602477  ::  Accuracy: 0.5998715707609432  \n",
      "\n",
      "Threshold: 35.440000000000225  ::  Recall: 0.4003196164602477  ::  Accuracy: 0.5998834623571522  \n",
      "\n",
      "Threshold: 35.44500000000023  ::  Recall: 0.4002530296976961  ::  Accuracy: 0.5998834623571522  \n",
      "\n",
      "Threshold: 35.45000000000023  ::  Recall: 0.4002530296976961  ::  Accuracy: 0.5998834623571522  \n",
      "\n",
      "Threshold: 35.45500000000023  ::  Recall: 0.4002530296976961  ::  Accuracy: 0.599919137145779  \n",
      "\n",
      "Threshold: 35.460000000000235  ::  Recall: 0.4002530296976961  ::  Accuracy: 0.5999548119344059  \n",
      "\n",
      "Threshold: 35.46500000000024  ::  Recall: 0.4002530296976961  ::  Accuracy: 0.5999904867230328  \n",
      "\n",
      "Threshold: 35.47000000000024  ::  Recall: 0.4002530296976961  ::  Accuracy: 0.6000142699154507  \n"
     ]
    }
   ],
   "source": [
    "threshold=0\n",
    "f1=0\n",
    "recall=0\n",
    "accuracy=0\n",
    "\n",
    "threshold = 35\n",
    "\n",
    "while (accuracy < 0.6):\n",
    "    \n",
    "\n",
    "    threshold += .005\n",
    "    y_pred = [1 if e > threshold else 0 for e in error_df.reconstruction_error.values]\n",
    "    \n",
    "    conf_matrix = metrics.confusion_matrix(error_df.true_class, y_pred)\n",
    "    tn, fp, fn, tp = conf_matrix.ravel()\n",
    "    \n",
    "    precision = 1. * tp / (tp + fp)\n",
    "    recall = 1. * tp / (tp + fn)\n",
    "    f1 = (2 * recall * precision) / (recall + precision)\n",
    "    accuracy = 1. * (tp + tn) / (tp + tn + fp + fn)\n",
    "    \n",
    "    print('\\nThreshold: {}  ::  Recall: {}  ::  Accuracy: {}  '.format(threshold, \n",
    "                                                                      recall, accuracy))"
   ]
  },
  {
   "cell_type": "markdown",
   "metadata": {},
   "source": [
    "Print metrics "
   ]
  },
  {
   "cell_type": "code",
   "execution_count": 19,
   "metadata": {},
   "outputs": [
    {
     "name": "stdout",
     "output_type": "stream",
     "text": [
      "TP:6011\n",
      "FP:24629\n",
      "TN:44446\n",
      "FN:9007\n",
      "Accuracy:0.6000142699154507\n",
      "Precision:0.19618146214099216\n",
      "Recall:0.4002530296976961\n",
      "F1:0.26330544482894563\n"
     ]
    }
   ],
   "source": [
    "\n",
    "print('TP:' + str(tp))\n",
    "print('FP:' + str(fp))\n",
    "print('TN:' + str(tn))\n",
    "print('FN:' + str(fn))\n",
    "\n",
    "print('Accuracy:' + str(accuracy))\n",
    "print('Precision:' + str(precision))\n",
    "print('Recall:' + str(recall))\n",
    "print('F1:' + str(f1))"
   ]
  },
  {
   "cell_type": "markdown",
   "metadata": {},
   "source": [
    "Plot confusion matrix"
   ]
  },
  {
   "cell_type": "code",
   "execution_count": 20,
   "metadata": {},
   "outputs": [
    {
     "data": {
      "image/png": "[encoded data removed]",
      "text/plain": [
       "<Figure size 640x480 with 2 Axes>"
      ]
     },
     "metadata": {},
     "output_type": "display_data"
    }
   ],
   "source": [
    "cm_display = metrics.ConfusionMatrixDisplay(confusion_matrix = conf_matrix, display_labels = [False, True])\n",
    "cm_display.plot()\n",
    "plt.show()"
   ]
  }
 ],
 "metadata": {
  "kernelspec": {
   "display_name": "Python 3.9.13 ('base')",
   "language": "python",
   "name": "python3"
  },
  "language_info": {
   "codemirror_mode": {
    "name": "ipython",
    "version": 3
   },
   "file_extension": ".py",
   "mimetype": "text/x-python",
   "name": "python",
   "nbconvert_exporter": "python",
   "pygments_lexer": "ipython3",
   "version": "3.9.13"
  },
  "vscode": {
   "interpreter": {
    "hash": "d9a8acb4f733d3596df9f6fac9daff15e014d11794ebc65488d1c191c94698fd"
   }
  }
 },
 "nbformat": 4,
 "nbformat_minor": 2
}
